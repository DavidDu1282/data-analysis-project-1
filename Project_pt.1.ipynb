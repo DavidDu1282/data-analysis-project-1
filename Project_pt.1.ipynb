{
 "cells": [
  {
   "cell_type": "code",
   "execution_count": 40,
   "id": "db90c8ba",
   "metadata": {},
   "outputs": [],
   "source": [
    "import json\n",
    "import pandas as pd\n",
    "import numpy as np\n",
    "from sklearn.model_selection import train_test_split\n",
    "from sklearn.neighbors import KNeighborsClassifier\n",
    "from sklearn.naive_bayes import GaussianNB\n",
    "from sklearn.ensemble import RandomForestClassifier\n",
    "from sklearn.preprocessing import StandardScaler\n",
    "from sklearn.svm import SVC\n",
    "from sklearn.pipeline import make_pipeline\n",
    "from sklearn.ensemble import RandomForestRegressor\n",
    "from sklearn.ensemble import GradientBoostingClassifier"
   ]
  },
  {
   "cell_type": "code",
   "execution_count": 69,
   "id": "d6a1c583",
   "metadata": {},
   "outputs": [],
   "source": [
    "data = pd.read_json('part-00000-cc1292d9-e874-42fa-aa7d-fa5ecffae4ae-c000.json', lines=True)"
   ]
  },
  {
   "cell_type": "code",
   "execution_count": 3,
   "id": "52abfba0",
   "metadata": {},
   "outputs": [],
   "source": [
    "van = pd.read_csv('listings.csv.gz')\n",
    "van = van[['latitude','longitude','host_neighbourhood']]\n",
    "van = van.dropna()"
   ]
  },
  {
   "cell_type": "code",
   "execution_count": 70,
   "id": "0dcc33da",
   "metadata": {},
   "outputs": [],
   "source": [
    "data = data[['name','lat','lon']]"
   ]
  },
  {
   "cell_type": "code",
   "execution_count": 5,
   "id": "67347444",
   "metadata": {},
   "outputs": [],
   "source": [
    "X = van[['latitude','longitude']]\n",
    "y = van[['host_neighbourhood']]\n",
    "X_train, X_valid, y_train, y_valid = train_test_split(X, y)\n",
    "sc = StandardScaler()\n",
    "X_train_scaled = sc.fit_transform(X_train)\n",
    "X_valid_scaled = sc.transform(X_valid)"
   ]
  },
  {
   "cell_type": "code",
   "execution_count": 6,
   "id": "64a7fb53",
   "metadata": {},
   "outputs": [
    {
     "data": {
      "text/plain": [
       "0.6454545454545455"
      ]
     },
     "execution_count": 6,
     "metadata": {},
     "output_type": "execute_result"
    }
   ],
   "source": [
    "knn = KNeighborsClassifier(n_neighbors=10)\n",
    "knn.fit(X_train_scaled, y_train.values.ravel())\n",
    "knn.score(X_valid_scaled, y_valid)"
   ]
  },
  {
   "cell_type": "code",
   "execution_count": 7,
   "id": "d12f9b21",
   "metadata": {},
   "outputs": [
    {
     "data": {
      "text/plain": [
       "0.5878787878787879"
      ]
     },
     "execution_count": 7,
     "metadata": {},
     "output_type": "execute_result"
    }
   ],
   "source": [
    "bayes = GaussianNB()\n",
    "bayes.fit(X_train_scaled, y_train.values.ravel())\n",
    "bayes.score(X_valid_scaled, y_valid)"
   ]
  },
  {
   "cell_type": "code",
   "execution_count": 45,
   "id": "d8abb574",
   "metadata": {},
   "outputs": [
    {
     "data": {
      "text/plain": [
       "0.6808080808080809"
      ]
     },
     "execution_count": 45,
     "metadata": {},
     "output_type": "execute_result"
    }
   ],
   "source": [
    "random_forest = RandomForestClassifier(n_estimators=400, max_depth=7)\n",
    "random_forest.fit(X_train, y_train.values.ravel())\n",
    "random_forest.score(X_valid, y_valid)"
   ]
  },
  {
   "cell_type": "code",
   "execution_count": 9,
   "id": "cf6fb38c",
   "metadata": {},
   "outputs": [
    {
     "data": {
      "text/plain": [
       "0.604040404040404"
      ]
     },
     "execution_count": 9,
     "metadata": {},
     "output_type": "execute_result"
    }
   ],
   "source": [
    "clf = make_pipeline(StandardScaler(), SVC(gamma='auto'))\n",
    "clf.fit(X_train, y_train.values.ravel())\n",
    "clf.score(X_valid, y_valid)"
   ]
  },
  {
   "cell_type": "code",
   "execution_count": 41,
   "id": "1dee0559",
   "metadata": {},
   "outputs": [
    {
     "name": "stdout",
     "output_type": "stream",
     "text": [
      "0.6713804713804714\n",
      "0.6070707070707071\n"
     ]
    }
   ],
   "source": [
    "model = GradientBoostingClassifier(n_estimators=50,\n",
    "        max_depth=2, min_samples_leaf=0.1)\n",
    "model.fit(X_train, y_train.values.ravel())\n",
    "print(model.score(X_train, y_train.values.ravel()))\n",
    "print(model.score(X_valid, y_valid))"
   ]
  },
  {
   "cell_type": "code",
   "execution_count": 50,
   "id": "d4fe6525",
   "metadata": {},
   "outputs": [],
   "source": [
    "###################################\n",
    "###Predicting the neighbourhood####\n",
    "###################################\n",
    "X_attract = data[['lat','lon']]\n",
    "attract_neighbour = random_forest.predict(X_attract)"
   ]
  },
  {
   "cell_type": "code",
   "execution_count": 75,
   "id": "868ac2a5",
   "metadata": {},
   "outputs": [
    {
     "data": {
      "text/html": [
       "<div>\n",
       "<style scoped>\n",
       "    .dataframe tbody tr th:only-of-type {\n",
       "        vertical-align: middle;\n",
       "    }\n",
       "\n",
       "    .dataframe tbody tr th {\n",
       "        vertical-align: top;\n",
       "    }\n",
       "\n",
       "    .dataframe thead th {\n",
       "        text-align: right;\n",
       "    }\n",
       "</style>\n",
       "<table border=\"1\" class=\"dataframe\">\n",
       "  <thead>\n",
       "    <tr style=\"text-align: right;\">\n",
       "      <th></th>\n",
       "      <th>name</th>\n",
       "      <th>lat</th>\n",
       "      <th>lon</th>\n",
       "    </tr>\n",
       "    <tr>\n",
       "      <th>neighbourhood</th>\n",
       "      <th></th>\n",
       "      <th></th>\n",
       "      <th></th>\n",
       "    </tr>\n",
       "  </thead>\n",
       "  <tbody>\n",
       "    <tr>\n",
       "      <th>Central Vancouver</th>\n",
       "      <td>3</td>\n",
       "      <td>3</td>\n",
       "      <td>3</td>\n",
       "    </tr>\n",
       "    <tr>\n",
       "      <th>Chinatown</th>\n",
       "      <td>1</td>\n",
       "      <td>1</td>\n",
       "      <td>1</td>\n",
       "    </tr>\n",
       "    <tr>\n",
       "      <th>Commercial Drive</th>\n",
       "      <td>1</td>\n",
       "      <td>1</td>\n",
       "      <td>1</td>\n",
       "    </tr>\n",
       "    <tr>\n",
       "      <th>Downtown Eastside</th>\n",
       "      <td>7</td>\n",
       "      <td>7</td>\n",
       "      <td>7</td>\n",
       "    </tr>\n",
       "    <tr>\n",
       "      <th>Downtown Vancouver</th>\n",
       "      <td>22</td>\n",
       "      <td>22</td>\n",
       "      <td>22</td>\n",
       "    </tr>\n",
       "    <tr>\n",
       "      <th>Dunbar-Southlands</th>\n",
       "      <td>4</td>\n",
       "      <td>4</td>\n",
       "      <td>4</td>\n",
       "    </tr>\n",
       "    <tr>\n",
       "      <th>Fairview</th>\n",
       "      <td>5</td>\n",
       "      <td>5</td>\n",
       "      <td>5</td>\n",
       "    </tr>\n",
       "    <tr>\n",
       "      <th>Fraserview</th>\n",
       "      <td>3</td>\n",
       "      <td>3</td>\n",
       "      <td>3</td>\n",
       "    </tr>\n",
       "    <tr>\n",
       "      <th>Grandview-Woodland</th>\n",
       "      <td>3</td>\n",
       "      <td>3</td>\n",
       "      <td>3</td>\n",
       "    </tr>\n",
       "    <tr>\n",
       "      <th>Hastings-Sunrise</th>\n",
       "      <td>9</td>\n",
       "      <td>9</td>\n",
       "      <td>9</td>\n",
       "    </tr>\n",
       "    <tr>\n",
       "      <th>Kensington-Cedar Cottage</th>\n",
       "      <td>1</td>\n",
       "      <td>1</td>\n",
       "      <td>1</td>\n",
       "    </tr>\n",
       "    <tr>\n",
       "      <th>Kerrisdale</th>\n",
       "      <td>1</td>\n",
       "      <td>1</td>\n",
       "      <td>1</td>\n",
       "    </tr>\n",
       "    <tr>\n",
       "      <th>Killarney</th>\n",
       "      <td>42</td>\n",
       "      <td>42</td>\n",
       "      <td>42</td>\n",
       "    </tr>\n",
       "    <tr>\n",
       "      <th>Kitsilano</th>\n",
       "      <td>2</td>\n",
       "      <td>2</td>\n",
       "      <td>2</td>\n",
       "    </tr>\n",
       "    <tr>\n",
       "      <th>Marpole</th>\n",
       "      <td>6</td>\n",
       "      <td>6</td>\n",
       "      <td>6</td>\n",
       "    </tr>\n",
       "    <tr>\n",
       "      <th>Mount Pleasant</th>\n",
       "      <td>3</td>\n",
       "      <td>3</td>\n",
       "      <td>3</td>\n",
       "    </tr>\n",
       "    <tr>\n",
       "      <th>Oakridge</th>\n",
       "      <td>1</td>\n",
       "      <td>1</td>\n",
       "      <td>1</td>\n",
       "    </tr>\n",
       "    <tr>\n",
       "      <th>Point Grey/University of British Columbia</th>\n",
       "      <td>2</td>\n",
       "      <td>2</td>\n",
       "      <td>2</td>\n",
       "    </tr>\n",
       "    <tr>\n",
       "      <th>Renfrew-Collingwood</th>\n",
       "      <td>3</td>\n",
       "      <td>3</td>\n",
       "      <td>3</td>\n",
       "    </tr>\n",
       "    <tr>\n",
       "      <th>South Cambie</th>\n",
       "      <td>1</td>\n",
       "      <td>1</td>\n",
       "      <td>1</td>\n",
       "    </tr>\n",
       "    <tr>\n",
       "      <th>South Vancouver</th>\n",
       "      <td>1</td>\n",
       "      <td>1</td>\n",
       "      <td>1</td>\n",
       "    </tr>\n",
       "    <tr>\n",
       "      <th>West End</th>\n",
       "      <td>5</td>\n",
       "      <td>5</td>\n",
       "      <td>5</td>\n",
       "    </tr>\n",
       "  </tbody>\n",
       "</table>\n",
       "</div>"
      ],
      "text/plain": [
       "                                           name  lat  lon\n",
       "neighbourhood                                            \n",
       "Central Vancouver                             3    3    3\n",
       "Chinatown                                     1    1    1\n",
       "Commercial Drive                              1    1    1\n",
       "Downtown Eastside                             7    7    7\n",
       "Downtown Vancouver                           22   22   22\n",
       "Dunbar-Southlands                             4    4    4\n",
       "Fairview                                      5    5    5\n",
       "Fraserview                                    3    3    3\n",
       "Grandview-Woodland                            3    3    3\n",
       "Hastings-Sunrise                              9    9    9\n",
       "Kensington-Cedar Cottage                      1    1    1\n",
       "Kerrisdale                                    1    1    1\n",
       "Killarney                                    42   42   42\n",
       "Kitsilano                                     2    2    2\n",
       "Marpole                                       6    6    6\n",
       "Mount Pleasant                                3    3    3\n",
       "Oakridge                                      1    1    1\n",
       "Point Grey/University of British Columbia     2    2    2\n",
       "Renfrew-Collingwood                           3    3    3\n",
       "South Cambie                                  1    1    1\n",
       "South Vancouver                               1    1    1\n",
       "West End                                      5    5    5"
      ]
     },
     "execution_count": 75,
     "metadata": {},
     "output_type": "execute_result"
    }
   ],
   "source": [
    "df = pd.DataFrame(attract_neighbour)\n",
    "df.iloc[:, 0].unique()\n",
    "data['neighbourhood'] = df.iloc[:, 0]\n",
    "data.groupby(['neighbourhood']).count()"
   ]
  }
 ],
 "metadata": {
  "kernelspec": {
   "display_name": "Python 3",
   "language": "python",
   "name": "python3"
  },
  "language_info": {
   "codemirror_mode": {
    "name": "ipython",
    "version": 3
   },
   "file_extension": ".py",
   "mimetype": "text/x-python",
   "name": "python",
   "nbconvert_exporter": "python",
   "pygments_lexer": "ipython3",
   "version": "3.8.8"
  }
 },
 "nbformat": 4,
 "nbformat_minor": 5
}
